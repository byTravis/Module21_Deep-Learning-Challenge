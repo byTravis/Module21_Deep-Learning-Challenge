{
  "cells": [
    {
      "cell_type": "markdown",
      "metadata": {
        "id": "IBq_5Z1zfzl3"
      },
      "source": [
        "## Preprocessing"
      ]
    },
    {
      "cell_type": "code",
      "execution_count": null,
      "metadata": {
        "id": "r2IsYGU5fzl5"
      },
      "outputs": [],
      "source": [
        "# Import our dependencies\n",
        "from sklearn.model_selection import train_test_split\n",
        "from sklearn.preprocessing import StandardScaler\n",
        "import pandas as pd\n",
        "import tensorflow as tf\n",
        "\n",
        "#  Import and read the charity_data.csv.\n",
        "import pandas as pd\n",
        "application_df = pd.read_csv(\"https://static.bc-edx.com/data/dl-1-2/m21/lms/starter/charity_data.csv\")\n",
        "application_df.head()\n",
        "\n",
        "# Variables\n",
        "model_results = []\n",
        "\n",
        "import warnings\n",
        "warnings.filterwarnings('ignore')  # Ignore all warnings"
      ]
    },
    {
      "cell_type": "code",
      "execution_count": null,
      "metadata": {
        "colab": {
          "base_uri": "https://localhost:8080/",
          "height": 206
        },
        "id": "fnv4bWyffzl7",
        "outputId": "b7a655af-04ad-49e5-c3fb-16148e64b22a"
      },
      "outputs": [],
      "source": [
        "# Drop the non-beneficial ID columns, 'EIN' and 'NAME'.\n",
        "application_df = application_df.drop([\"EIN\", \"NAME\"], axis=1)\n",
        "application_df.head(5)\n"
      ]
    },
    {
      "cell_type": "code",
      "execution_count": null,
      "metadata": {
        "colab": {
          "base_uri": "https://localhost:8080/"
        },
        "id": "SU4E66nFfzl7",
        "outputId": "6f04460b-c853-4c2b-ae4e-69b2bfa01391"
      },
      "outputs": [],
      "source": [
        "# Determine the number of unique values in each column.\n",
        "application_df.nunique()"
      ]
    },
    {
      "cell_type": "code",
      "execution_count": null,
      "metadata": {
        "colab": {
          "base_uri": "https://localhost:8080/"
        },
        "id": "d1HwTdEDfzl7",
        "outputId": "d9d21d15-a687-46a8-b57c-215e9e792dbe"
      },
      "outputs": [],
      "source": [
        "# Look at APPLICATION_TYPE value counts to identify and replace with \"Other\"\n",
        "counts = application_df[\"APPLICATION_TYPE\"].value_counts()\n",
        "counts"
      ]
    },
    {
      "cell_type": "code",
      "execution_count": null,
      "metadata": {
        "colab": {
          "base_uri": "https://localhost:8080/"
        },
        "id": "XrEA-LvLfzl8",
        "outputId": "9a93b0d0-f1e5-4986-ccab-bf0244df9b42"
      },
      "outputs": [],
      "source": [
        "# Choose a cutoff value and create a list of application types to be replaced\n",
        "# use the variable name `application_types_to_replace`\n",
        "application_types_to_replace = counts[counts<500].index.tolist()\n",
        "\n",
        "\n",
        "# Replace in dataframe\n",
        "for app in application_types_to_replace:\n",
        "    application_df['APPLICATION_TYPE'] = application_df['APPLICATION_TYPE'].replace(app,\"Other\")\n",
        "\n",
        "# Check to make sure replacement was successful\n",
        "application_df['APPLICATION_TYPE'].value_counts()"
      ]
    },
    {
      "cell_type": "code",
      "execution_count": null,
      "metadata": {
        "colab": {
          "base_uri": "https://localhost:8080/"
        },
        "id": "rLWEBUvifzl8",
        "outputId": "10349520-5221-47ff-9771-dd0f5e7328cc"
      },
      "outputs": [],
      "source": [
        "# Look at CLASSIFICATION value counts to identify and replace with \"Other\"\n",
        "counts = application_df[\"CLASSIFICATION\"].value_counts()\n",
        "counts\n"
      ]
    },
    {
      "cell_type": "code",
      "execution_count": null,
      "metadata": {
        "colab": {
          "base_uri": "https://localhost:8080/"
        },
        "id": "xs-XTWIafzl8",
        "outputId": "65ff5445-fdcd-4311-bcab-8e9ae8b6e630"
      },
      "outputs": [],
      "source": [
        "# You may find it helpful to look at CLASSIFICATION value counts >1\n",
        "counts[counts > 1]"
      ]
    },
    {
      "cell_type": "code",
      "execution_count": null,
      "metadata": {
        "colab": {
          "base_uri": "https://localhost:8080/"
        },
        "id": "R2hUKSoFfzl9",
        "outputId": "d6df2310-fc3f-4990-d677-64f26c68a0e8"
      },
      "outputs": [],
      "source": [
        "# Choose a cutoff value and create a list of classifications to be replaced\n",
        "# use the variable name `classifications_to_replace`\n",
        "#  YOUR CODE GOES HERE\n",
        "classifications_to_replace = counts[counts < 1500].index.tolist()\n",
        "\n",
        "# Replace in dataframe\n",
        "for cls in classifications_to_replace:\n",
        "    application_df['CLASSIFICATION'] = application_df['CLASSIFICATION'].replace(cls,\"Other\")\n",
        "\n",
        "# Check to make sure replacement was successful\n",
        "application_df['CLASSIFICATION'].value_counts()"
      ]
    },
    {
      "cell_type": "code",
      "execution_count": null,
      "metadata": {
        "colab": {
          "base_uri": "https://localhost:8080/",
          "height": 273
        },
        "id": "88d2kXinfzl9",
        "outputId": "e2557b2e-63ba-4503-e14c-6b7b08379165"
      },
      "outputs": [],
      "source": [
        "# Convert categorical data to numeric with `pd.get_dummies`\n",
        "categorical_columns = application_df.select_dtypes(include=['object']).columns\n",
        "application_df = pd.get_dummies(application_df, columns=categorical_columns)\n",
        "application_df.head(5)\n"
      ]
    },
    {
      "cell_type": "code",
      "execution_count": null,
      "metadata": {
        "id": "T-4UjsUVfzl9"
      },
      "outputs": [],
      "source": [
        "# Split our preprocessed data into our features and target arrays\n",
        "y = application_df[\"IS_SUCCESSFUL\"].values\n",
        "X = application_df.drop([\"IS_SUCCESSFUL\"], axis=1).values\n",
        "\n",
        "# Split the preprocessed data into a training and testing dataset\n",
        "X_train, X_test, y_train, y_test = train_test_split(X, y, random_state=42)"
      ]
    },
    {
      "cell_type": "code",
      "execution_count": null,
      "metadata": {
        "id": "yAWH98oyfzl9"
      },
      "outputs": [],
      "source": [
        "# Create a StandardScaler instances\n",
        "scaler = StandardScaler()\n",
        "\n",
        "# Fit the StandardScaler\n",
        "X_scaler = scaler.fit(X_train)\n",
        "\n",
        "# Scale the data\n",
        "X_train_scaled = X_scaler.transform(X_train)\n",
        "X_test_scaled = X_scaler.transform(X_test)"
      ]
    },
    {
      "cell_type": "markdown",
      "metadata": {
        "id": "yIqiber9fzl-"
      },
      "source": [
        "## Compile, Train and Evaluate the Model"
      ]
    },
    {
      "cell_type": "markdown",
      "metadata": {
        "id": "u8NExgnvb8GT"
      },
      "source": [
        "## Base Model\n",
        "Model based on starter code outputs."
      ]
    },
    {
      "cell_type": "code",
      "execution_count": null,
      "metadata": {
        "colab": {
          "base_uri": "https://localhost:8080/"
        },
        "id": "c4hj-ZQlfzl-",
        "outputId": "bb3f04bc-e193-4774-eb4e-541f4e25c677"
      },
      "outputs": [],
      "source": [
        "# Define the model - deep neural net, i.e., the number of input features and hidden nodes for each layer.\n",
        "number_input_features = len(X_train[0])\n",
        "hidden_nodes_layer1 =  80\n",
        "hidden_nodes_layer2 = 30\n",
        "\n",
        "nn_base = tf.keras.models.Sequential()\n",
        "\n",
        "# First hidden layer\n",
        "nn_base.add(tf.keras.layers.Dense(units=hidden_nodes_layer1, input_dim=number_input_features, activation=\"relu\"))\n",
        "\n",
        "# Second hidden layer\n",
        "nn_base.add(tf.keras.layers.Dense(units=hidden_nodes_layer2, activation=\"relu\"))\n",
        "\n",
        "# Output layer\n",
        "nn_base.add(tf.keras.layers.Dense(units=1, activation=\"sigmoid\"))\n",
        "\n",
        "# Check the structure of the model\n",
        "nn_base.summary()"
      ]
    },
    {
      "cell_type": "code",
      "execution_count": null,
      "metadata": {
        "id": "NFtH7hQnfzl-"
      },
      "outputs": [],
      "source": [
        "# Compile the model\n",
        "nn_base.compile(loss=\"binary_crossentropy\", optimizer=\"adam\", metrics=[\"accuracy\"])"
      ]
    },
    {
      "cell_type": "code",
      "execution_count": null,
      "metadata": {
        "colab": {
          "base_uri": "https://localhost:8080/"
        },
        "id": "iDWG28y2fzl-",
        "outputId": "27161a45-4fce-4a21-d414-c8d7d37afba6"
      },
      "outputs": [],
      "source": [
        "# Train the model\n",
        "base_model = nn_base.fit(X_train_scaled,y_train,epochs=100)"
      ]
    },
    {
      "cell_type": "code",
      "execution_count": null,
      "metadata": {
        "colab": {
          "base_uri": "https://localhost:8080/",
          "height": 880
        },
        "id": "io_BiHPLfzl_",
        "outputId": "cd099ae7-6182-4ec4-cc23-ac1eb4589d22"
      },
      "outputs": [],
      "source": [
        "# Plot Results\n",
        "training_df = pd.DataFrame(base_model.history, index=range(1,len(base_model.history[\"loss\"])+1))\n",
        "training_df.plot(y=\"loss\")\n",
        "training_df.plot(y=\"accuracy\")\n",
        "\n",
        "\n",
        "# Evaluate the model using the test data\n",
        "model_loss, model_accuracy = nn_base.evaluate(X_test_scaled,y_test,verbose=2)\n",
        "print(f\"Loss: {model_loss}, Accuracy: {model_accuracy}\")\n",
        "\n",
        "#  Add results to a dictionary for comparison.\n",
        "model_info = {\n",
        "    'model_name': 'Base',\n",
        "    'loss': model_loss,\n",
        "    'accuracy': model_accuracy\n",
        "}\n",
        "\n",
        "model_results.append(model_info)\n"
      ]
    },
    {
      "cell_type": "markdown",
      "metadata": {
        "id": "WwkjFe76a5vT"
      },
      "source": [
        "## Optimization Attempt 1\n",
        "* **Changes:**\n",
        "  * Increase number of epochs from 100 to 200\n"
      ]
    },
    {
      "cell_type": "code",
      "execution_count": null,
      "metadata": {
        "colab": {
          "base_uri": "https://localhost:8080/"
        },
        "id": "QugeYLvQa5EW",
        "outputId": "3ee3f42b-cb42-4d00-8545-f30e026dfd8f"
      },
      "outputs": [],
      "source": [
        "# Define the model - deep neural net, i.e., the number of input features and hidden nodes for each layer.\n",
        "number_input_features = len(X_train[0])\n",
        "hidden_nodes_layer1 =  80\n",
        "hidden_nodes_layer2 = 30\n",
        "\n",
        "nn_optomize_v1 = tf.keras.models.Sequential()\n",
        "\n",
        "# First hidden layer\n",
        "nn_optomize_v1.add(tf.keras.layers.Dense(units=hidden_nodes_layer1, input_dim=number_input_features, activation=\"relu\"))\n",
        "\n",
        "# Second hidden layer\n",
        "nn_optomize_v1.add(tf.keras.layers.Dense(units=hidden_nodes_layer2, activation=\"relu\"))\n",
        "\n",
        "\n",
        "# Output layer\n",
        "nn_optomize_v1.add(tf.keras.layers.Dense(units=1, activation=\"sigmoid\"))\n",
        "\n",
        "# Check the structure of the model\n",
        "nn_optomize_v1.summary()"
      ]
    },
    {
      "cell_type": "code",
      "execution_count": null,
      "metadata": {
        "id": "h-8nQEFwbItZ"
      },
      "outputs": [],
      "source": [
        "# Compile the model\n",
        "nn_optomize_v1.compile(loss=\"binary_crossentropy\", optimizer=\"adam\", metrics=[\"accuracy\"])"
      ]
    },
    {
      "cell_type": "code",
      "execution_count": null,
      "metadata": {
        "colab": {
          "base_uri": "https://localhost:8080/"
        },
        "id": "Ez4_ibPbbJ5F",
        "outputId": "c6a66af0-6545-47cd-cd1b-8f38358dfbb5"
      },
      "outputs": [],
      "source": [
        "# Train the model\n",
        "model_optomize_v1 = nn_optomize_v1.fit(X_train_scaled,y_train,epochs=200)"
      ]
    },
    {
      "cell_type": "code",
      "execution_count": null,
      "metadata": {
        "colab": {
          "base_uri": "https://localhost:8080/",
          "height": 878
        },
        "id": "TGeIyoGNbP0S",
        "outputId": "c2842ea3-0061-485f-f3b4-7223bf5758ac"
      },
      "outputs": [],
      "source": [
        "# Plot Results\n",
        "training_df = pd.DataFrame(model_optomize_v1.history, index=range(1,len(model_optomize_v1.history[\"loss\"])+1))\n",
        "training_df.plot(y=\"loss\")\n",
        "training_df.plot(y=\"accuracy\")\n",
        "\n",
        "# Evaluate the model using the test data\n",
        "model_loss, model_accuracy = nn_optomize_v1.evaluate(X_test_scaled,y_test,verbose=2)\n",
        "print(f\"Loss: {model_loss}, Accuracy: {model_accuracy}\")\n",
        "\n",
        "#  Add results to a dictionary for comparison.\n",
        "model_info = {\n",
        "    'model_name': 'Optimization Attempt 1',\n",
        "    'loss': model_loss,\n",
        "    'accuracy': model_accuracy\n",
        "}\n",
        "\n",
        "model_results.append(model_info)"
      ]
    },
    {
      "cell_type": "markdown",
      "metadata": {
        "id": "Q6idHHitbb3y"
      },
      "source": [
        "## Optimization Attempt 2\n",
        "* **Changes:**\n",
        "  * Increased nodes in layer one to 3 times the number of columns in dataset.\n",
        "  * Increased nodes in layer two to 1/2 the number of nodes as layer one"
      ]
    },
    {
      "cell_type": "code",
      "execution_count": null,
      "metadata": {
        "colab": {
          "base_uri": "https://localhost:8080/"
        },
        "id": "aDsKw4Ttba7Y",
        "outputId": "350a3338-1d4e-4c02-c2af-7215c6527928"
      },
      "outputs": [],
      "source": [
        "# Define the model - deep neural net, i.e., the number of input features and hidden nodes for each layer.\n",
        "number_input_features = len(X_train[0])\n",
        "hidden_nodes_layer1 =  132\n",
        "hidden_nodes_layer2 = 66\n",
        "\n",
        "\n",
        "nn_optomize_v2 = tf.keras.models.Sequential()\n",
        "\n",
        "# First hidden layer\n",
        "nn_optomize_v2.add(tf.keras.layers.Dense(units=hidden_nodes_layer1, input_dim=number_input_features, activation=\"relu\"))\n",
        "\n",
        "# Second hidden layer\n",
        "nn_optomize_v2.add(tf.keras.layers.Dense(units=hidden_nodes_layer2, activation=\"relu\"))\n",
        "\n",
        "\n",
        "# Output layer\n",
        "nn_optomize_v2.add(tf.keras.layers.Dense(units=1, activation=\"sigmoid\"))\n",
        "\n",
        "# Check the structure of the model\n",
        "nn_optomize_v2.summary()"
      ]
    },
    {
      "cell_type": "code",
      "execution_count": null,
      "metadata": {
        "id": "tYehHQI2bidp"
      },
      "outputs": [],
      "source": [
        "# Compile the model\n",
        "nn_optomize_v2.compile(loss=\"binary_crossentropy\", optimizer=\"adam\", metrics=[\"accuracy\"])"
      ]
    },
    {
      "cell_type": "code",
      "execution_count": null,
      "metadata": {
        "colab": {
          "base_uri": "https://localhost:8080/"
        },
        "id": "RYKKAm6QbmUd",
        "outputId": "d69b7e2b-de97-4074-da9e-9d85f1f0ed74"
      },
      "outputs": [],
      "source": [
        "# Train the model\n",
        "model_optomize_v2 = nn_optomize_v2.fit(X_train_scaled,y_train,epochs=100)"
      ]
    },
    {
      "cell_type": "code",
      "execution_count": null,
      "metadata": {
        "colab": {
          "base_uri": "https://localhost:8080/",
          "height": 878
        },
        "id": "Y266XUH6bora",
        "outputId": "5c26ae08-ee3f-4bd4-d820-e84b81979ad0"
      },
      "outputs": [],
      "source": [
        "# Plot Results\n",
        "training_df = pd.DataFrame(model_optomize_v2.history, index=range(1,len(model_optomize_v2.history[\"loss\"])+1))\n",
        "training_df.plot(y=\"loss\")\n",
        "training_df.plot(y=\"accuracy\")\n",
        "\n",
        "# Evaluate the model using the test data\n",
        "model_loss, model_accuracy = nn_optomize_v2.evaluate(X_test_scaled,y_test,verbose=2)\n",
        "print(f\"Loss: {model_loss}, Accuracy: {model_accuracy}\")\n",
        "\n",
        "#  Add results to a dictionary for comparison.\n",
        "model_info = {\n",
        "    'model_name': 'Optimization Attempt 2',\n",
        "    'loss': model_loss,\n",
        "    'accuracy': model_accuracy\n",
        "}\n",
        "\n",
        "model_results.append(model_info)"
      ]
    },
    {
      "cell_type": "markdown",
      "metadata": {
        "id": "1J_V1JIxcFSH"
      },
      "source": [
        "# Optimization Attempt 3\n",
        "* **Changes:**\n",
        "  * Changed the number of nodes in layer one to 120\n",
        "  * Changed the number of nodes in layer two to 90.\n",
        "  * Added a third layer with 30 nodes."
      ]
    },
    {
      "cell_type": "code",
      "execution_count": null,
      "metadata": {
        "colab": {
          "base_uri": "https://localhost:8080/"
        },
        "id": "ncy240WxcVa-",
        "outputId": "296036a9-4102-4ac2-bd0a-ba4e604c6c6d"
      },
      "outputs": [],
      "source": [
        "# Define the model - deep neural net, i.e., the number of input features and hidden nodes for each layer.\n",
        "number_input_features = len(X_train[0])\n",
        "hidden_nodes_layer1 =  120\n",
        "hidden_nodes_layer2 = 90\n",
        "hidden_nodes_layer3 = 30\n",
        "\n",
        "nn_optomize_v3 = tf.keras.models.Sequential()\n",
        "\n",
        "# First hidden layer\n",
        "nn_optomize_v3.add(tf.keras.layers.Dense(units=hidden_nodes_layer1, input_dim=number_input_features, activation=\"relu\"))\n",
        "\n",
        "# Second hidden layer\n",
        "nn_optomize_v3.add(tf.keras.layers.Dense(units=hidden_nodes_layer2, activation=\"relu\"))\n",
        "\n",
        "# Third hidden layer\n",
        "nn_optomize_v3.add(tf.keras.layers.Dense(units=hidden_nodes_layer3, activation=\"relu\"))\n",
        "\n",
        "# Output layer\n",
        "nn_optomize_v3.add(tf.keras.layers.Dense(units=1, activation=\"sigmoid\"))\n",
        "\n",
        "# Check the structure of the model\n",
        "nn_optomize_v3.summary()"
      ]
    },
    {
      "cell_type": "code",
      "execution_count": null,
      "metadata": {
        "id": "coFYyGk5cVUQ"
      },
      "outputs": [],
      "source": [
        "# Compile the model\n",
        "nn_optomize_v3.compile(loss=\"binary_crossentropy\", optimizer=\"adam\", metrics=[\"accuracy\"])"
      ]
    },
    {
      "cell_type": "code",
      "execution_count": null,
      "metadata": {
        "colab": {
          "base_uri": "https://localhost:8080/"
        },
        "id": "BsKfh4CmcVLW",
        "outputId": "1d8a147b-5d4b-4739-87a8-cc0e51679362"
      },
      "outputs": [],
      "source": [
        "# Train the model\n",
        "model_optomize_v3 = nn_optomize_v3.fit(X_train_scaled,y_train,epochs=100)"
      ]
    },
    {
      "cell_type": "code",
      "execution_count": null,
      "metadata": {
        "colab": {
          "base_uri": "https://localhost:8080/",
          "height": 878
        },
        "id": "mZhujKS2cVBb",
        "outputId": "5c9a36d3-7b64-4a41-f12c-00fb87ddf8fc"
      },
      "outputs": [],
      "source": [
        "# Plot Results\n",
        "training_df = pd.DataFrame(model_optomize_v3.history, index=range(1,len(model_optomize_v3.history[\"loss\"])+1))\n",
        "training_df.plot(y=\"loss\")\n",
        "training_df.plot(y=\"accuracy\")\n",
        "\n",
        "# Evaluate the model using the test data\n",
        "model_loss, model_accuracy = nn_optomize_v3.evaluate(X_test_scaled,y_test,verbose=2)\n",
        "print(f\"Loss: {model_loss}, Accuracy: {model_accuracy}\")\n",
        "\n",
        "#  Add results to a dictionary for comparison.\n",
        "model_info = {\n",
        "    'model_name': 'Optimization Attempt 3',\n",
        "    'loss': model_loss,\n",
        "    'accuracy': model_accuracy\n",
        "}\n",
        "\n",
        "model_results.append(model_info)"
      ]
    },
    {
      "cell_type": "markdown",
      "metadata": {
        "id": "hLZCioeYyTuT"
      },
      "source": [
        "### KerasTuner Library\n",
        "I decided to run the Keras Tuner Library to see if can improve the results and see what it suggests for model perameters."
      ]
    },
    {
      "cell_type": "code",
      "execution_count": null,
      "metadata": {
        "id": "FB_Yn6DgyShC"
      },
      "outputs": [],
      "source": [
        "# Create a method that creates a new Sequential model with hyperparameter options\n",
        "def create_model(hp):\n",
        "    nn_model = tf.keras.models.Sequential()\n",
        "\n",
        "    # Allow kerastuner to decide which activation function to use in hidden layers\n",
        "    activation = hp.Choice('activation',['relu','tanh','sigmoid'])\n",
        "\n",
        "    # Allow kerastuner to decide number of neurons in first layer\n",
        "    nn_model.add(tf.keras.layers.Dense(units=hp.Int('first_units',\n",
        "        min_value=1,\n",
        "        max_value=10,\n",
        "        step=2), activation=activation, input_dim=43))\n",
        "\n",
        "    # Allow kerastuner to decide number of hidden layers and neurons in hidden layers\n",
        "    for i in range(hp.Int('num_layers', 1, 6)):\n",
        "        nn_model.add(tf.keras.layers.Dense(units=hp.Int('units_' + str(i),\n",
        "            min_value=1,\n",
        "            max_value=10,\n",
        "            step=2),\n",
        "            activation=activation))\n",
        "\n",
        "    nn_model.add(tf.keras.layers.Dense(units=1, activation=\"sigmoid\"))\n",
        "\n",
        "    # Compile the model\n",
        "    nn_model.compile(loss=\"binary_crossentropy\", optimizer='adam', metrics=[\"accuracy\"])\n",
        "\n",
        "    return nn_model"
      ]
    },
    {
      "cell_type": "code",
      "execution_count": null,
      "metadata": {
        "id": "4B0myd2LmktI"
      },
      "outputs": [],
      "source": [
        "# Installs keras-tuner on Google Colab\n",
        "# !pip install keras-tuner"
      ]
    },
    {
      "cell_type": "code",
      "execution_count": null,
      "metadata": {
        "id": "aQw54dYvyYz-"
      },
      "outputs": [],
      "source": [
        "# Import the kerastuner library\n",
        "import keras_tuner as kt"
      ]
    },
    {
      "cell_type": "code",
      "execution_count": null,
      "metadata": {
        "colab": {
          "base_uri": "https://localhost:8080/"
        },
        "id": "PtYQRJyGy5gi",
        "outputId": "c5529de0-4c9f-4c63-f52f-5aef6b305946"
      },
      "outputs": [],
      "source": [
        "tuner = kt.Hyperband(\n",
        "    create_model,\n",
        "    objective=\"val_accuracy\",\n",
        "    max_epochs=20,\n",
        "    hyperband_iterations=2)"
      ]
    },
    {
      "cell_type": "code",
      "execution_count": null,
      "metadata": {
        "colab": {
          "base_uri": "https://localhost:8080/"
        },
        "id": "TfiUA-uUyciM",
        "outputId": "27c7735a-45ec-4bc9-f9da-50222fa16ba9"
      },
      "outputs": [],
      "source": [
        "# Run the kerastuner search for best hyperparameters\n",
        "tuner.search(X_train_scaled,y_train,epochs=20,validation_data=(X_test_scaled,y_test))"
      ]
    },
    {
      "cell_type": "code",
      "execution_count": null,
      "metadata": {
        "id": "FOw1uOjHyeih"
      },
      "outputs": [],
      "source": [
        "# Get best model hyperparameters\n",
        "best_hyper = tuner.get_best_hyperparameters(1)[0]\n",
        "best_hyper.values"
      ]
    },
    {
      "cell_type": "code",
      "execution_count": null,
      "metadata": {
        "id": "cOwreZHFyhnO"
      },
      "outputs": [],
      "source": [
        "# Evaluate best model against full test data\n",
        "best_model = tuner.get_best_models(1)[0]\n",
        "model_loss, model_accuracy = best_model.evaluate(X_test_scaled,y_test,verbose=2)\n",
        "print(f\"Loss: {model_loss}, Accuracy: {model_accuracy}\")"
      ]
    },
    {
      "cell_type": "markdown",
      "metadata": {
        "id": "uHK2tlsKceUD"
      },
      "source": [
        "### Export Model\n",
        "I output a report on the models I created with different iterations.  Based on their results, I chose my initial *Base* model as the most optimized since it had a slightly higher accuracy of .73 and a lower loss of .56."
      ]
    },
    {
      "cell_type": "code",
      "execution_count": null,
      "metadata": {},
      "outputs": [],
      "source": [
        "# Display the results for my different models for comparison. \n",
        "print(\"================================================================================\") \n",
        "print(\"|                              Model Results                                   |\")\n",
        "print(\"================================================================================\")\n",
        "print()\n",
        "for result in model_results:\n",
        "    print(f\"{result['model_name']}: Loss: {result['loss']}, Accuracy: {result['accuracy']}\")"
      ]
    },
    {
      "cell_type": "code",
      "execution_count": null,
      "metadata": {
        "id": "i0Rfq6-6fzl_"
      },
      "outputs": [],
      "source": [
        "# Export our model to HDF5 file\n",
        "nn_base.save(\"AlphabetSoupCharity_Optimization.h5\")"
      ]
    }
  ],
  "metadata": {
    "accelerator": "GPU",
    "colab": {
      "gpuType": "T4",
      "provenance": []
    },
    "kernelspec": {
      "display_name": "Python 3",
      "name": "python3"
    },
    "language_info": {
      "codemirror_mode": {
        "name": "ipython",
        "version": 3
      },
      "file_extension": ".py",
      "mimetype": "text/x-python",
      "name": "python",
      "nbconvert_exporter": "python",
      "pygments_lexer": "ipython3",
      "version": "3.11.5"
    },
    "vscode": {
      "interpreter": {
        "hash": "31f2aee4e71d21fbe5cf8b01ff0e069b9275f58929596ceb00d14d90e3e16cd6"
      }
    }
  },
  "nbformat": 4,
  "nbformat_minor": 0
}
